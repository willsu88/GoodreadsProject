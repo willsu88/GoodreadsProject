{
 "cells": [
  {
   "cell_type": "markdown",
   "metadata": {},
   "source": [
    "# Neural Network Model\n",
    "In this notebook, we built a neural network as a recommender system on the Goodreads dataset."
   ]
  },
  {
   "cell_type": "markdown",
   "metadata": {},
   "source": [
    "Input: 1.user indexes 2. book indexes\n",
    "Layers:\n",
    "\n",
    "1. Embedding Layer\n",
    "    - maps each user index to a \"u\" vector in R^k \n",
    "    - maps each book index to a \"v\" vector in R^k \n",
    "2. Merge \n",
    "    - multiplies u and v element wise\n",
    "3. Flatten\n",
    "4. Dense Layer: one node\n",
    "5. Activation: \"Relu\"\n",
    "6. Output: one node"
   ]
  },
  {
   "cell_type": "code",
   "execution_count": 1,
   "metadata": {},
   "outputs": [
    {
     "name": "stderr",
     "output_type": "stream",
     "text": [
      "Using TensorFlow backend.\n"
     ]
    }
   ],
   "source": [
    "import json\n",
    "import pandas as pd\n",
    "import numpy as np\n",
    "import matplotlib.pyplot as plt\n",
    "import scipy.sparse as sp\n",
    "import scipy.linalg as la\n",
    "import gc\n",
    "\n",
    "import numpy as np\n",
    "\n",
    "import keras\n",
    "from keras.models import Model\n",
    "from keras.layers import merge\n",
    "from keras.layers import Input, Dense, Dropout, Embedding, Flatten\n",
    "from keras.utils import np_utils"
   ]
  },
  {
   "cell_type": "code",
   "execution_count": 2,
   "metadata": {},
   "outputs": [
    {
     "name": "stdout",
     "output_type": "stream",
     "text": [
      "[name: \"/device:CPU:0\"\n",
      "device_type: \"CPU\"\n",
      "memory_limit: 268435456\n",
      "locality {\n",
      "}\n",
      "incarnation: 10862299546963507758\n",
      ", name: \"/device:GPU:0\"\n",
      "device_type: \"GPU\"\n",
      "memory_limit: 11280557671\n",
      "locality {\n",
      "  bus_id: 1\n",
      "  links {\n",
      "  }\n",
      "}\n",
      "incarnation: 13068468565990086503\n",
      "physical_device_desc: \"device: 0, name: Tesla K80, pci bus id: 0000:00:1e.0, compute capability: 3.7\"\n",
      "]\n"
     ]
    }
   ],
   "source": [
    "from tensorflow.python.client import device_lib\n",
    "print(device_lib.list_local_devices())"
   ]
  },
  {
   "cell_type": "code",
   "execution_count": 3,
   "metadata": {},
   "outputs": [
    {
     "data": {
      "text/plain": [
       "['/job:localhost/replica:0/task:0/device:GPU:0']"
      ]
     },
     "execution_count": 3,
     "metadata": {},
     "output_type": "execute_result"
    }
   ],
   "source": [
    "from keras import backend as K\n",
    "K.tensorflow_backend._get_available_gpus()"
   ]
  },
  {
   "cell_type": "code",
   "execution_count": 4,
   "metadata": {},
   "outputs": [],
   "source": [
    "path = \"../ShrinkMatrices\"\n",
    "npz_filename = path + \"rating_matrix_shrunk.npz\"\n",
    "\n",
    "sparse_rating_matrix = sp.load_npz(npz_filename)\n",
    "\n",
    "dense_rating_matrix = sparse_rating_matrix.todense()"
   ]
  },
  {
   "cell_type": "markdown",
   "metadata": {},
   "source": [
    "## Train Test Split\n",
    "Note that we used a seed in our random to ensure that all of our models are train test splitting the same way."
   ]
  },
  {
   "cell_type": "code",
   "execution_count": 5,
   "metadata": {},
   "outputs": [],
   "source": [
    "# X_tr now is 1d array version of dense_rating_matrix\n",
    "X_tr = np.asarray(dense_rating_matrix.copy())\n",
    "X_tr = X_tr.flatten()\n",
    "\n",
    "\n",
    "nonzero_pairs = np.nonzero(X_tr)[0]\n",
    "num_non_zero_pairs = len(nonzero_pairs)\n",
    "\n",
    "total_num_pairs = X_tr.shape[0]\n",
    "num_testing_pairs = int(0.1 * num_non_zero_pairs)\n",
    "\n",
    "\n",
    "# seeds the random generator\n",
    "np.random.seed(0)\n",
    "\n",
    "# indices of 1d array X_tr\n",
    "testing_pair_indices = np.random.choice(nonzero_pairs, num_testing_pairs, replace=False)\n",
    "training_pair_indices = list(set(np.arange(total_num_pairs)) - set(testing_pair_indices))\n",
    "\n",
    "\n",
    "X_te = X_tr.copy()\n",
    "\n",
    "# sets testing pairs in training set to be 0\n",
    "X_tr[testing_pair_indices] = 0\n",
    "\n",
    "# sets training pairs in testing set to be 0\n",
    "X_te[training_pair_indices] = 0\n",
    "\n",
    "\n",
    "# takes X_tr and X_te back to shape of dense_rating_matrix\n",
    "\n",
    "X_tr = X_tr.reshape((dense_rating_matrix.shape[0], dense_rating_matrix.shape[1]))\n",
    "X_te = X_te.reshape((dense_rating_matrix.shape[0], dense_rating_matrix.shape[1]))\n"
   ]
  },
  {
   "cell_type": "code",
   "execution_count": 6,
   "metadata": {},
   "outputs": [
    {
     "data": {
      "text/plain": [
       "7"
      ]
     },
     "execution_count": 6,
     "metadata": {},
     "output_type": "execute_result"
    }
   ],
   "source": [
    "dense_rating_matrix = None\n",
    "testing_pair_indices = None\n",
    "training_pair_indices = None\n",
    "gc.collect()"
   ]
  },
  {
   "cell_type": "code",
   "execution_count": 7,
   "metadata": {},
   "outputs": [],
   "source": [
    "nonzero_users_tr, nonzero_books_tr, nonzero_ratings_tr = sp.find(X_tr)"
   ]
  },
  {
   "cell_type": "code",
   "execution_count": 8,
   "metadata": {},
   "outputs": [
    {
     "data": {
      "text/plain": [
       "0"
      ]
     },
     "execution_count": 8,
     "metadata": {},
     "output_type": "execute_result"
    }
   ],
   "source": [
    "X_tr = None\n",
    "gc.collect()"
   ]
  },
  {
   "cell_type": "code",
   "execution_count": 9,
   "metadata": {},
   "outputs": [],
   "source": [
    "nonzero_users_te, nonzero_books_te, nonzero_ratings_te = sp.find(X_te)"
   ]
  },
  {
   "cell_type": "code",
   "execution_count": 10,
   "metadata": {},
   "outputs": [
    {
     "data": {
      "text/plain": [
       "0"
      ]
     },
     "execution_count": 10,
     "metadata": {},
     "output_type": "execute_result"
    }
   ],
   "source": [
    "X_te = None\n",
    "gc.collect()"
   ]
  },
  {
   "cell_type": "code",
   "execution_count": 11,
   "metadata": {},
   "outputs": [
    {
     "data": {
      "text/plain": [
       "0"
      ]
     },
     "execution_count": 11,
     "metadata": {},
     "output_type": "execute_result"
    }
   ],
   "source": [
    "P = None\n",
    "sparse_rating_matrix = None\n",
    "gc.collect()"
   ]
  },
  {
   "cell_type": "markdown",
   "metadata": {},
   "source": [
    "## Build the Architecture of the Neural Network"
   ]
  },
  {
   "cell_type": "code",
   "execution_count": 54,
   "metadata": {},
   "outputs": [],
   "source": [
    "k = 99\n",
    "\n",
    "user_input = Input(shape=(1,), dtype='int32')\n",
    "user_vector = Embedding(input_dim=max(nonzero_users_tr)+1,\n",
    "                        output_dim=k, name=\"user_vector\")(user_input)\n",
    "\n",
    "book_input = Input(shape=(1,), dtype='int32')\n",
    "book_vector = Embedding(input_dim=max(nonzero_books_tr)+1,\n",
    "                        output_dim=k, name=\"book_vector\")(book_input)\n",
    "\n",
    "product = merge.multiply([user_vector, book_vector])\n",
    "product = Dropout(0.2)(product)\n",
    "\n",
    "layer = Flatten()(product)\n",
    "layer = Dense(1, activation=\"relu\")(layer)\n",
    "\n",
    "output = Dense(1)(layer)\n",
    "\n",
    "model = Model(inputs=[user_input, book_input], outputs=output)\n",
    "model.compile(loss=\"mean_squared_error\", optimizer='adam', metrics=[\"mean_squared_error\", \"mae\"])"
   ]
  },
  {
   "cell_type": "markdown",
   "metadata": {},
   "source": [
    "## Train the Model"
   ]
  },
  {
   "cell_type": "code",
   "execution_count": 55,
   "metadata": {},
   "outputs": [
    {
     "name": "stdout",
     "output_type": "stream",
     "text": [
      "Train on 120751 samples, validate on 30188 samples\n",
      "Epoch 1/10\n",
      "120751/120751 [==============================] - 23s 193us/step - loss: 3.0862 - mean_squared_error: 3.0862 - mean_absolute_error: 1.2772 - val_loss: 1.2362 - val_mean_squared_error: 1.2362 - val_mean_absolute_error: 0.9626\n",
      "Epoch 2/10\n",
      "120751/120751 [==============================] - 23s 187us/step - loss: 0.5166 - mean_squared_error: 0.5166 - mean_absolute_error: 0.5373 - val_loss: 1.2827 - val_mean_squared_error: 1.2827 - val_mean_absolute_error: 0.9869\n",
      "Epoch 3/10\n",
      "120751/120751 [==============================] - 23s 187us/step - loss: 0.2602 - mean_squared_error: 0.2602 - mean_absolute_error: 0.3806 - val_loss: 1.2978 - val_mean_squared_error: 1.2978 - val_mean_absolute_error: 0.9933\n",
      "Epoch 4/10\n",
      "120751/120751 [==============================] - 23s 187us/step - loss: 0.1694 - mean_squared_error: 0.1694 - mean_absolute_error: 0.3158 - val_loss: 1.2449 - val_mean_squared_error: 1.2449 - val_mean_absolute_error: 0.9643\n",
      "Epoch 5/10\n",
      "120751/120751 [==============================] - 23s 187us/step - loss: 0.1368 - mean_squared_error: 0.1368 - mean_absolute_error: 0.2879 - val_loss: 1.2270 - val_mean_squared_error: 1.2270 - val_mean_absolute_error: 0.9544\n",
      "Epoch 6/10\n",
      "120751/120751 [==============================] - 23s 187us/step - loss: 0.1190 - mean_squared_error: 0.1190 - mean_absolute_error: 0.2696 - val_loss: 1.2012 - val_mean_squared_error: 1.2012 - val_mean_absolute_error: 0.9383\n",
      "Epoch 7/10\n",
      "120751/120751 [==============================] - 23s 187us/step - loss: 0.1078 - mean_squared_error: 0.1078 - mean_absolute_error: 0.2571 - val_loss: 1.1856 - val_mean_squared_error: 1.1856 - val_mean_absolute_error: 0.9285\n",
      "Epoch 8/10\n",
      "120751/120751 [==============================] - 23s 188us/step - loss: 0.0993 - mean_squared_error: 0.0993 - mean_absolute_error: 0.2470 - val_loss: 1.1566 - val_mean_squared_error: 1.1566 - val_mean_absolute_error: 0.9072\n",
      "Epoch 9/10\n",
      "120751/120751 [==============================] - 23s 188us/step - loss: 0.0921 - mean_squared_error: 0.0921 - mean_absolute_error: 0.2379 - val_loss: 1.1365 - val_mean_squared_error: 1.1365 - val_mean_absolute_error: 0.8906\n",
      "Epoch 10/10\n",
      "120751/120751 [==============================] - 23s 188us/step - loss: 0.0869 - mean_squared_error: 0.0869 - mean_absolute_error: 0.2308 - val_loss: 1.1373 - val_mean_squared_error: 1.1373 - val_mean_absolute_error: 0.8917\n"
     ]
    },
    {
     "data": {
      "text/plain": [
       "<keras.callbacks.History at 0x7f245fa0b190>"
      ]
     },
     "execution_count": 55,
     "metadata": {},
     "output_type": "execute_result"
    }
   ],
   "source": [
    "class History(keras.callbacks.Callback):\n",
    "    def on_train_begin(self, logs={}):\n",
    "        self.mse = []\n",
    "        self.mae = []\n",
    "\n",
    "    def on_epoch_end(self, batch, logs={}):\n",
    "        self.mse.append(logs.get('mean_sqaured_error'))\n",
    "        self.mae.append(logs.get('mae'))\n",
    "        \n",
    "history = History()\n",
    "\n",
    "model.fit([np.array([[user] for user in nonzero_users_tr]),\n",
    "           np.array([[book] for book in nonzero_books_tr])],\n",
    "                    np.array([[rating] for rating in nonzero_ratings_tr]),\n",
    "                    epochs=10, verbose=1, validation_split=0.2, callbacks=[history])"
   ]
  },
  {
   "cell_type": "code",
   "execution_count": null,
   "metadata": {},
   "outputs": [],
   "source": [
    "#Save the model\n",
    "model.save(\"nn_model\")"
   ]
  },
  {
   "cell_type": "markdown",
   "metadata": {},
   "source": [
    "# Calculate MSE"
   ]
  },
  {
   "cell_type": "code",
   "execution_count": 56,
   "metadata": {},
   "outputs": [
    {
     "data": {
      "text/plain": [
       "0.7679616366976831"
      ]
     },
     "execution_count": 56,
     "metadata": {},
     "output_type": "execute_result"
    }
   ],
   "source": [
    "# testing mse\n",
    "\n",
    "predictions_te = model.predict([np.array([[user] for user in nonzero_users_te]),\n",
    "                                np.array([[book] for book in nonzero_books_te])]).flatten()\n",
    "np.mean((predictions_te - nonzero_ratings_te) ** 2)"
   ]
  },
  {
   "cell_type": "code",
   "execution_count": 14,
   "metadata": {},
   "outputs": [
    {
     "data": {
      "text/plain": [
       "array([3.970225 , 3.8007812, 5.084221 , ..., 3.8157582, 3.7499943,\n",
       "       3.8985112], dtype=float32)"
      ]
     },
     "execution_count": 14,
     "metadata": {},
     "output_type": "execute_result"
    }
   ],
   "source": [
    "predictions_te"
   ]
  },
  {
   "cell_type": "code",
   "execution_count": 57,
   "metadata": {},
   "outputs": [
    {
     "data": {
      "text/plain": [
       "0.264326357370608"
      ]
     },
     "execution_count": 57,
     "metadata": {},
     "output_type": "execute_result"
    }
   ],
   "source": [
    "# training mse\n",
    "\n",
    "predictions_tr = model.predict([np.array([[user] for user in nonzero_users_tr]),\n",
    "                                np.array([[book] for book in nonzero_books_tr])]).flatten()\n",
    "np.sum((predictions_tr - nonzero_ratings_tr) ** 2) / len(nonzero_ratings_tr)"
   ]
  }
 ],
 "metadata": {
  "kernelspec": {
   "display_name": "Python 3",
   "language": "python",
   "name": "python3"
  },
  "language_info": {
   "codemirror_mode": {
    "name": "ipython",
    "version": 3
   },
   "file_extension": ".py",
   "mimetype": "text/x-python",
   "name": "python",
   "nbconvert_exporter": "python",
   "pygments_lexer": "ipython3",
   "version": "3.6.5"
  }
 },
 "nbformat": 4,
 "nbformat_minor": 2
}
