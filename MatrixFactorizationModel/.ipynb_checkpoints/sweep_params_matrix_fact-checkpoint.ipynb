{
 "cells": [
  {
   "cell_type": "markdown",
   "metadata": {},
   "source": [
    "# Sweep Params for MatrixFactorization\n",
    "\n",
    "This notebook is used to sweep the K parameters in our Matrix Factorization model.\n"
   ]
  },
  {
   "cell_type": "markdown",
   "metadata": {},
   "source": [
    "Input: a 20000 by 426 rating matrix."
   ]
  },
  {
   "cell_type": "markdown",
   "metadata": {},
   "source": [
    "Output: a json file that contains keys (K, reg) mapped to training MSE and test MSE's."
   ]
  },
  {
   "cell_type": "markdown",
   "metadata": {},
   "source": [
    "The json file \"matrix_factorization_all_params.json\" contains all the training and test MSE's that we swept.\n",
    "The params we swept range from:\n",
    "1. k = 50 - 130\n",
    "2. reg = 1 - 10\n",
    "3. niter = 20"
   ]
  },
  {
   "cell_type": "code",
   "execution_count": 1,
   "metadata": {},
   "outputs": [],
   "source": [
    "import json\n",
    "import pandas as pd\n",
    "import numpy as np\n",
    "import matplotlib.pyplot as plt\n",
    "import scipy.sparse as sp\n",
    "import scipy.linalg as la\n",
    "import gc\n"
   ]
  },
  {
   "cell_type": "code",
   "execution_count": 2,
   "metadata": {},
   "outputs": [],
   "source": [
    "path = \"../ShrinkMatrices/\"\n",
    "npz_filename = path + \"rating_matrix_shrunk.npz\""
   ]
  },
  {
   "cell_type": "code",
   "execution_count": 3,
   "metadata": {
    "scrolled": true
   },
   "outputs": [],
   "source": [
    "sparse_rating_matrix = sp.load_npz(npz_filename)\n",
    "sparse_rating_matrix = sparse_rating_matrix.astype(\"int8\")\n",
    "dense_rating_matrix = sparse_rating_matrix.todense()"
   ]
  },
  {
   "cell_type": "code",
   "execution_count": 136,
   "metadata": {},
   "outputs": [
    {
     "data": {
      "text/plain": [
       "(1000, 14473)"
      ]
     },
     "execution_count": 136,
     "metadata": {},
     "output_type": "execute_result"
    }
   ],
   "source": [
    "dense_rating_matrix.shape"
   ]
  },
  {
   "cell_type": "code",
   "execution_count": 137,
   "metadata": {},
   "outputs": [
    {
     "data": {
      "text/plain": [
       "44554"
      ]
     },
     "execution_count": 137,
     "metadata": {},
     "output_type": "execute_result"
    }
   ],
   "source": [
    "np.count_nonzero(dense_rating_matrix)"
   ]
  },
  {
   "cell_type": "code",
   "execution_count": 138,
   "metadata": {},
   "outputs": [
    {
     "data": {
      "text/plain": [
       "0.0030784218890347543"
      ]
     },
     "execution_count": 138,
     "metadata": {},
     "output_type": "execute_result"
    }
   ],
   "source": [
    "np.count_nonzero(dense_rating_matrix) / (dense_rating_matrix.shape[0] * dense_rating_matrix.shape[1])"
   ]
  },
  {
   "cell_type": "markdown",
   "metadata": {},
   "source": [
    "## Train Test Split"
   ]
  },
  {
   "cell_type": "code",
   "execution_count": 139,
   "metadata": {},
   "outputs": [],
   "source": [
    "# train test split\n",
    "# How: randomly select 10% of user-book pairs that have nonzero entry as test set\n",
    "# the set is train set"
   ]
  },
  {
   "cell_type": "code",
   "execution_count": 4,
   "metadata": {},
   "outputs": [],
   "source": [
    "# X_tr now is 1d array version of dense_rating_matrix\n",
    "X_tr = np.asarray(dense_rating_matrix.copy())\n",
    "X_tr = X_tr.flatten()\n",
    "\n",
    "nonzero_pairs = np.nonzero(X_tr)[0]\n",
    "num_non_zero_pairs = len(nonzero_pairs)\n",
    "\n",
    "total_num_pairs = X_tr.shape[0]\n",
    "num_testing_pairs = int(0.1 * num_non_zero_pairs)\n",
    "\n",
    "# seeds the random generator\n",
    "np.random.seed(0)\n",
    "\n",
    "# indices of 1d array X_tr\n",
    "testing_pair_indices = np.random.choice(nonzero_pairs, num_testing_pairs, replace=False)\n",
    "training_pair_indices = list(set(np.arange(total_num_pairs)) - set(testing_pair_indices))"
   ]
  },
  {
   "cell_type": "code",
   "execution_count": 5,
   "metadata": {},
   "outputs": [
    {
     "data": {
      "text/plain": [
       "8503229"
      ]
     },
     "execution_count": 5,
     "metadata": {},
     "output_type": "execute_result"
    }
   ],
   "source": [
    "len(training_pair_indices)"
   ]
  },
  {
   "cell_type": "code",
   "execution_count": 6,
   "metadata": {},
   "outputs": [],
   "source": [
    "X_te = X_tr.copy()\n",
    "\n",
    "# sets testing pairs in training set to be 0\n",
    "X_tr[testing_pair_indices] = 0\n",
    "\n",
    "# sets training pairs in testing set to be 0\n",
    "X_te[training_pair_indices] = 0"
   ]
  },
  {
   "cell_type": "code",
   "execution_count": 7,
   "metadata": {},
   "outputs": [
    {
     "data": {
      "text/plain": [
       "150939"
      ]
     },
     "execution_count": 7,
     "metadata": {},
     "output_type": "execute_result"
    }
   ],
   "source": [
    "np.count_nonzero(X_tr)"
   ]
  },
  {
   "cell_type": "code",
   "execution_count": 8,
   "metadata": {
    "scrolled": true
   },
   "outputs": [
    {
     "data": {
      "text/plain": [
       "16771"
      ]
     },
     "execution_count": 8,
     "metadata": {},
     "output_type": "execute_result"
    }
   ],
   "source": [
    "np.count_nonzero(X_te)"
   ]
  },
  {
   "cell_type": "code",
   "execution_count": 9,
   "metadata": {},
   "outputs": [],
   "source": [
    "# takes X_tr and X_te back to shape of dense_rating_matrix\n",
    "\n",
    "X_tr = X_tr.reshape((dense_rating_matrix.shape[0], dense_rating_matrix.shape[1]))\n",
    "X_te = X_te.reshape((dense_rating_matrix.shape[0], dense_rating_matrix.shape[1]))"
   ]
  },
  {
   "cell_type": "code",
   "execution_count": 10,
   "metadata": {},
   "outputs": [
    {
     "data": {
      "text/plain": [
       "150939"
      ]
     },
     "execution_count": 10,
     "metadata": {},
     "output_type": "execute_result"
    }
   ],
   "source": [
    "np.count_nonzero(X_tr)"
   ]
  },
  {
   "cell_type": "code",
   "execution_count": 11,
   "metadata": {},
   "outputs": [
    {
     "data": {
      "text/plain": [
       "16771"
      ]
     },
     "execution_count": 11,
     "metadata": {},
     "output_type": "execute_result"
    }
   ],
   "source": [
    "np.count_nonzero(X_te)"
   ]
  },
  {
   "cell_type": "code",
   "execution_count": 12,
   "metadata": {},
   "outputs": [
    {
     "data": {
      "text/plain": [
       "7"
      ]
     },
     "execution_count": 12,
     "metadata": {},
     "output_type": "execute_result"
    }
   ],
   "source": [
    "P = None\n",
    "dense_rating_matrix = None\n",
    "sparse_rating_matrix = None\n",
    "gc.collect()"
   ]
  },
  {
   "cell_type": "markdown",
   "metadata": {},
   "source": [
    "## Error and Train Functions"
   ]
  },
  {
   "cell_type": "code",
   "execution_count": 17,
   "metadata": {},
   "outputs": [],
   "source": [
    "def error(X, nnz_indices, U, V, reg, verbose=False):\n",
    "    \"\"\" Compute the mean error of the observed ratings in X and their estimated values. \n",
    "        Args: \n",
    "            X (numpy 2D array) : a ratings matrix as specified above \n",
    "            nnz_indices (numpy 2D array) : nonzero indices of dense_rating_matrix\n",
    "            U (numpy 2D array) : a matrix of features for each user (m x k)\n",
    "            V (numpy 2D array) : a matrix of features for each movie (k x n)\n",
    "            reg (float): regularization parameter\n",
    "        Returns: \n",
    "            (float) : the mean squared error of the observed ratings with their estimated values with penalty for u and v coefficients\n",
    "        \"\"\"\n",
    "\n",
    "    num_nnz = np.sum(nnz_indices)\n",
    "    term_1 = np.sum(np.multiply(nnz_indices, ((np.matmul(U, V) - X) ** 2)))\n",
    "    term_2 = reg * np.sum(U * U)\n",
    "    term_3 = reg * np.sum(V * V)\n",
    "\n",
    "    return (term_1 + term_2 + term_3) / num_nnz\n",
    "\n",
    "train = []\n",
    "test = []\n",
    "def train(X_tr, X_te, U_init, V_init, k, niters=10, reg=1, verbose=False):\n",
    "    \"\"\" Train a collaborative filtering model. \n",
    "        Args: \n",
    "            X_tr (numpy 2D array) : the training ratings matrix as specified above\n",
    "            X_te (numpy 2D array) : the testing ratings matrix as specified above\n",
    "            U_init (numpy 2D array) : an initial matrix of features for each user\n",
    "            V_init (numpy 2D array) : an initial matrix of features for each movie\n",
    "            k (int) : the number of features used in the CF model\n",
    "            niters (int) : number of iterations to run\n",
    "            reg (float) : regularization parameter\n",
    "            verbose (boolean) : verbosity flag for printing useful messages\n",
    "            \n",
    "        Returns:\n",
    "            (U,V) : A pair of the resulting learned matrix factorization\n",
    "    \"\"\"\n",
    "    \n",
    "    U = np.empty((X_tr.shape[0], k))\n",
    "    V = np.empty((k, X_tr.shape[1]))\n",
    "\n",
    "    num_users, num_items = X_tr.shape\n",
    "    reg_matrix = reg * np.eye(k,k)\n",
    "    \n",
    "    nnz_indices = (X_tr != 0)\n",
    "    nnz_indices_te = (X_te != 0)\n",
    "    \n",
    "    for iteration in range(1, niters + 1):\n",
    "        \n",
    "        # fix V and update U\n",
    "        for i in range(num_users):\n",
    "            idx = nnz_indices[i,:]\n",
    "            lhs = V[:,idx]\n",
    "            rhs = np.matmul(lhs, X_tr[i, idx].T)\n",
    "            lhs = np.matmul(lhs, lhs.T) + reg_matrix\n",
    "            U[i,:] = np.linalg.solve(lhs, rhs).T\n",
    "\n",
    "        # fix U and update V\n",
    "        for j in range(num_items):\n",
    "            idx = nnz_indices[:,j]\n",
    "            lhs = U[idx,:]\n",
    "            rhs = np.matmul(lhs.T, X_tr[idx, j])\n",
    "            lhs = np.matmul(lhs.T, lhs) + reg_matrix\n",
    "            V[:,j] = np.linalg.solve(lhs, rhs)\n",
    "        \n",
    "        # save some memory\n",
    "        idx = None\n",
    "        lhs = None\n",
    "        rhs = None\n",
    "        gc.collect()\n",
    "        \n",
    "        print (\"--------------------------------------------------\")\n",
    "        print (\"Iteration: \" + str(iteration))\n",
    "        \n",
    "        \n",
    "        training_error = error(X_tr, nnz_indices, U, V, 0, verbose)\n",
    "        testing_error = error(X_te, nnz_indices_te, U, V, 0, verbose)\n",
    "        if verbose:\n",
    "            train.append(training_error)\n",
    "            test.append(testing_error)\n",
    "            print (\"Training error: \" + str(training_error))\n",
    "            print (\"Testing error: \" + str(testing_error))\n",
    "        \n",
    "        print (\"--------------------------------------------------\")\n",
    "            \n",
    "    return (training_error, testing_error)"
   ]
  },
  {
   "cell_type": "code",
   "execution_count": 213,
   "metadata": {},
   "outputs": [],
   "source": [
    "# change this\n",
    "k_range = np.concatenate([np.arange(20, 41), np.arange(81, 101)])"
   ]
  },
  {
   "cell_type": "code",
   "execution_count": 214,
   "metadata": {},
   "outputs": [
    {
     "data": {
      "text/plain": [
       "array([20, 21, 22])"
      ]
     },
     "execution_count": 214,
     "metadata": {},
     "output_type": "execute_result"
    }
   ],
   "source": [
    "\n",
    "if_write_file = True\n",
    "\n",
    "notebook_num = 3\n",
    "total_notebook_num = 15\n",
    "\n",
    "k_per_notebook = int(len(k_range) / 15) + 1\n",
    "\n",
    "k_range = k_range[(k_per_notebook * (notebook_num - 1)):(k_per_notebook * notebook_num)]\n",
    "\n",
    "k_range"
   ]
  },
  {
   "cell_type": "markdown",
   "metadata": {},
   "source": [
    "## Run the Model using the K specified "
   ]
  },
  {
   "cell_type": "code",
   "execution_count": 218,
   "metadata": {},
   "outputs": [
    {
     "name": "stdout",
     "output_type": "stream",
     "text": [
      "(20, 1) (0.10157804962606012, 3.2723173993536854)\n",
      "k = 20 saved\n",
      "\n",
      "(21, 1) (0.2756627581117208, 2.3634534367614677)\n",
      "k = 21 saved\n",
      "\n",
      "(22, 1) (0.2652228751573767, 2.3544869122944485)\n",
      "k = 22 saved\n",
      "\n",
      "Complete\n"
     ]
    }
   ],
   "source": [
    "parameter_dict = {}\n",
    "niters = 20\n",
    "reg_range = np.arange(1, 26)\n",
    "\n",
    "for k in k_range:\n",
    "\n",
    "    # initialize U and V\n",
    "    # these will not be modified\n",
    "    U_init = np.apply_along_axis(lambda x: x/sum(x), 1, abs(np.random.randn(X_tr.shape[0],k)))\n",
    "    V_init = np.apply_along_axis(lambda x: x/sum(x), 1, abs(np.random.randn(k,X_tr.shape[1])))\n",
    "            \n",
    "    for reg in reg_range:\n",
    "        parameter_dict[str((k, reg))] = train(X_tr, X_te, U_init, V_init, k, niters, reg, verbose=False)\n",
    "        print (str((k, reg)) + \" \" + str(parameter_dict[str((k, reg))]))\n",
    "    \n",
    "    # write to file for every k\n",
    "    \n",
    "    if if_write_file:\n",
    "        with open(str(notebook_num) + \".json\", \"w+\") as f:\n",
    "            json.dump(parameter_dict, f)\n",
    "            print (\"k = \" + str(k) + \" saved\")\n",
    "            print (\"\")\n",
    "    \n",
    "print (\"Complete\")\n"
   ]
  },
  {
   "cell_type": "markdown",
   "metadata": {},
   "source": [
    "## Run Model with Best Params\n",
    "Our best params are\n",
    "1. k = 80\n",
    "2. reg = 5.0"
   ]
  },
  {
   "cell_type": "code",
   "execution_count": 16,
   "metadata": {},
   "outputs": [
    {
     "name": "stdout",
     "output_type": "stream",
     "text": [
      "--------------------------------------------------\n",
      "Iteration: 1\n",
      "\n",
      "Term 1: 22380.03794256064\n",
      "Term 2: 0.0\n",
      "Term 3: 0.0\n",
      "Number of nonzero entries: 150939\n",
      "\n",
      "\n",
      "Term 1: 25252.499867618764\n",
      "Term 2: 0.0\n",
      "Term 3: 0.0\n",
      "Number of nonzero entries: 16771\n",
      "\n",
      "Training error: 0.14827206979349697\n",
      "Testing error: 1.5057241588228945\n",
      "--------------------------------------------------\n",
      "--------------------------------------------------\n",
      "Iteration: 2\n",
      "\n",
      "Term 1: 12244.186756334473\n",
      "Term 2: 0.0\n",
      "Term 3: 0.0\n",
      "Number of nonzero entries: 150939\n",
      "\n",
      "\n",
      "Term 1: 22755.051639956968\n",
      "Term 2: 0.0\n",
      "Term 3: 0.0\n",
      "Number of nonzero entries: 16771\n",
      "\n",
      "Training error: 0.081120099883625\n",
      "Testing error: 1.3568094711082803\n",
      "--------------------------------------------------\n",
      "--------------------------------------------------\n",
      "Iteration: 3\n",
      "\n",
      "Term 1: 9813.102393461673\n",
      "Term 2: 0.0\n",
      "Term 3: 0.0\n",
      "Number of nonzero entries: 150939\n",
      "\n",
      "\n",
      "Term 1: 21511.99737790611\n",
      "Term 2: 0.0\n",
      "Term 3: 0.0\n",
      "Number of nonzero entries: 16771\n",
      "\n",
      "Training error: 0.06501369688060524\n",
      "Testing error: 1.2826902020097855\n",
      "--------------------------------------------------\n",
      "--------------------------------------------------\n",
      "Iteration: 4\n",
      "\n",
      "Term 1: 8849.067033155148\n",
      "Term 2: 0.0\n",
      "Term 3: 0.0\n",
      "Number of nonzero entries: 150939\n",
      "\n",
      "\n",
      "Term 1: 20767.551335056123\n",
      "Term 2: 0.0\n",
      "Term 3: 0.0\n",
      "Number of nonzero entries: 16771\n",
      "\n",
      "Training error: 0.05862677659952132\n",
      "Testing error: 1.238301313878488\n",
      "--------------------------------------------------\n",
      "--------------------------------------------------\n",
      "Iteration: 5\n",
      "\n",
      "Term 1: 8385.566022504181\n",
      "Term 2: 0.0\n",
      "Term 3: 0.0\n",
      "Number of nonzero entries: 150939\n",
      "\n",
      "\n",
      "Term 1: 20308.74316848968\n",
      "Term 2: 0.0\n",
      "Term 3: 0.0\n",
      "Number of nonzero entries: 16771\n",
      "\n",
      "Training error: 0.05555599296738537\n",
      "Testing error: 1.210944080167532\n",
      "--------------------------------------------------\n",
      "--------------------------------------------------\n",
      "Iteration: 6\n",
      "\n",
      "Term 1: 8128.1874077535895\n",
      "Term 2: 0.0\n",
      "Term 3: 0.0\n",
      "Number of nonzero entries: 150939\n",
      "\n",
      "\n",
      "Term 1: 20017.280246614475\n",
      "Term 2: 0.0\n",
      "Term 3: 0.0\n",
      "Number of nonzero entries: 16771\n",
      "\n",
      "Training error: 0.05385080998120823\n",
      "Testing error: 1.1935650972878467\n",
      "--------------------------------------------------\n"
     ]
    },
    {
     "ename": "KeyboardInterrupt",
     "evalue": "",
     "output_type": "error",
     "traceback": [
      "\u001b[0;31m---------------------------------------------------------------------------\u001b[0m",
      "\u001b[0;31mKeyboardInterrupt\u001b[0m                         Traceback (most recent call last)",
      "\u001b[0;32m<ipython-input-16-a53088576f1e>\u001b[0m in \u001b[0;36m<module>\u001b[0;34m()\u001b[0m\n\u001b[1;32m      3\u001b[0m \u001b[0mU_init\u001b[0m \u001b[0;34m=\u001b[0m \u001b[0mnp\u001b[0m\u001b[0;34m.\u001b[0m\u001b[0mapply_along_axis\u001b[0m\u001b[0;34m(\u001b[0m\u001b[0;32mlambda\u001b[0m \u001b[0mx\u001b[0m\u001b[0;34m:\u001b[0m \u001b[0mx\u001b[0m\u001b[0;34m/\u001b[0m\u001b[0msum\u001b[0m\u001b[0;34m(\u001b[0m\u001b[0mx\u001b[0m\u001b[0;34m)\u001b[0m\u001b[0;34m,\u001b[0m \u001b[0;36m1\u001b[0m\u001b[0;34m,\u001b[0m \u001b[0mabs\u001b[0m\u001b[0;34m(\u001b[0m\u001b[0mnp\u001b[0m\u001b[0;34m.\u001b[0m\u001b[0mrandom\u001b[0m\u001b[0;34m.\u001b[0m\u001b[0mrandn\u001b[0m\u001b[0;34m(\u001b[0m\u001b[0mX_tr\u001b[0m\u001b[0;34m.\u001b[0m\u001b[0mshape\u001b[0m\u001b[0;34m[\u001b[0m\u001b[0;36m0\u001b[0m\u001b[0;34m]\u001b[0m\u001b[0;34m,\u001b[0m\u001b[0mk\u001b[0m\u001b[0;34m)\u001b[0m\u001b[0;34m)\u001b[0m\u001b[0;34m)\u001b[0m\u001b[0;34m\u001b[0m\u001b[0m\n\u001b[1;32m      4\u001b[0m \u001b[0mV_init\u001b[0m \u001b[0;34m=\u001b[0m \u001b[0mnp\u001b[0m\u001b[0;34m.\u001b[0m\u001b[0mapply_along_axis\u001b[0m\u001b[0;34m(\u001b[0m\u001b[0;32mlambda\u001b[0m \u001b[0mx\u001b[0m\u001b[0;34m:\u001b[0m \u001b[0mx\u001b[0m\u001b[0;34m/\u001b[0m\u001b[0msum\u001b[0m\u001b[0;34m(\u001b[0m\u001b[0mx\u001b[0m\u001b[0;34m)\u001b[0m\u001b[0;34m,\u001b[0m \u001b[0;36m1\u001b[0m\u001b[0;34m,\u001b[0m \u001b[0mabs\u001b[0m\u001b[0;34m(\u001b[0m\u001b[0mnp\u001b[0m\u001b[0;34m.\u001b[0m\u001b[0mrandom\u001b[0m\u001b[0;34m.\u001b[0m\u001b[0mrandn\u001b[0m\u001b[0;34m(\u001b[0m\u001b[0mk\u001b[0m\u001b[0;34m,\u001b[0m\u001b[0mX_tr\u001b[0m\u001b[0;34m.\u001b[0m\u001b[0mshape\u001b[0m\u001b[0;34m[\u001b[0m\u001b[0;36m1\u001b[0m\u001b[0;34m]\u001b[0m\u001b[0;34m)\u001b[0m\u001b[0;34m)\u001b[0m\u001b[0;34m)\u001b[0m\u001b[0;34m\u001b[0m\u001b[0m\n\u001b[0;32m----> 5\u001b[0;31m \u001b[0mtrain\u001b[0m\u001b[0;34m(\u001b[0m\u001b[0mX_tr\u001b[0m\u001b[0;34m,\u001b[0m \u001b[0mX_te\u001b[0m\u001b[0;34m,\u001b[0m \u001b[0mU_init\u001b[0m\u001b[0;34m,\u001b[0m \u001b[0mV_init\u001b[0m\u001b[0;34m,\u001b[0m \u001b[0mk\u001b[0m\u001b[0;34m,\u001b[0m \u001b[0mniters\u001b[0m \u001b[0;34m=\u001b[0m \u001b[0;36m50\u001b[0m\u001b[0;34m,\u001b[0m \u001b[0mreg\u001b[0m \u001b[0;34m=\u001b[0m \u001b[0mreg\u001b[0m\u001b[0;34m,\u001b[0m \u001b[0mverbose\u001b[0m\u001b[0;34m=\u001b[0m\u001b[0;32mTrue\u001b[0m\u001b[0;34m)\u001b[0m\u001b[0;34m\u001b[0m\u001b[0m\n\u001b[0m",
      "\u001b[0;32m<ipython-input-14-8b415adcc598>\u001b[0m in \u001b[0;36mtrain\u001b[0;34m(X_tr, X_te, U_init, V_init, k, niters, reg, verbose)\u001b[0m\n\u001b[1;32m     60\u001b[0m             \u001b[0mrhs\u001b[0m \u001b[0;34m=\u001b[0m \u001b[0mnp\u001b[0m\u001b[0;34m.\u001b[0m\u001b[0mmatmul\u001b[0m\u001b[0;34m(\u001b[0m\u001b[0mlhs\u001b[0m\u001b[0;34m,\u001b[0m \u001b[0mX_tr\u001b[0m\u001b[0;34m[\u001b[0m\u001b[0mi\u001b[0m\u001b[0;34m,\u001b[0m \u001b[0midx\u001b[0m\u001b[0;34m]\u001b[0m\u001b[0;34m.\u001b[0m\u001b[0mT\u001b[0m\u001b[0;34m)\u001b[0m\u001b[0;34m\u001b[0m\u001b[0m\n\u001b[1;32m     61\u001b[0m             \u001b[0mlhs\u001b[0m \u001b[0;34m=\u001b[0m \u001b[0mnp\u001b[0m\u001b[0;34m.\u001b[0m\u001b[0mmatmul\u001b[0m\u001b[0;34m(\u001b[0m\u001b[0mlhs\u001b[0m\u001b[0;34m,\u001b[0m \u001b[0mlhs\u001b[0m\u001b[0;34m.\u001b[0m\u001b[0mT\u001b[0m\u001b[0;34m)\u001b[0m \u001b[0;34m+\u001b[0m \u001b[0mreg_matrix\u001b[0m\u001b[0;34m\u001b[0m\u001b[0m\n\u001b[0;32m---> 62\u001b[0;31m             \u001b[0mU\u001b[0m\u001b[0;34m[\u001b[0m\u001b[0mi\u001b[0m\u001b[0;34m,\u001b[0m\u001b[0;34m:\u001b[0m\u001b[0;34m]\u001b[0m \u001b[0;34m=\u001b[0m \u001b[0mnp\u001b[0m\u001b[0;34m.\u001b[0m\u001b[0mlinalg\u001b[0m\u001b[0;34m.\u001b[0m\u001b[0msolve\u001b[0m\u001b[0;34m(\u001b[0m\u001b[0mlhs\u001b[0m\u001b[0;34m,\u001b[0m \u001b[0mrhs\u001b[0m\u001b[0;34m)\u001b[0m\u001b[0;34m.\u001b[0m\u001b[0mT\u001b[0m\u001b[0;34m\u001b[0m\u001b[0m\n\u001b[0m\u001b[1;32m     63\u001b[0m \u001b[0;34m\u001b[0m\u001b[0m\n\u001b[1;32m     64\u001b[0m         \u001b[0;31m# fix U and update V\u001b[0m\u001b[0;34m\u001b[0m\u001b[0;34m\u001b[0m\u001b[0m\n",
      "\u001b[0;32m/usr/local/lib/python3.6/site-packages/numpy/linalg/linalg.py\u001b[0m in \u001b[0;36msolve\u001b[0;34m(a, b)\u001b[0m\n\u001b[1;32m    388\u001b[0m     \u001b[0msignature\u001b[0m \u001b[0;34m=\u001b[0m \u001b[0;34m'DD->D'\u001b[0m \u001b[0;32mif\u001b[0m \u001b[0misComplexType\u001b[0m\u001b[0;34m(\u001b[0m\u001b[0mt\u001b[0m\u001b[0;34m)\u001b[0m \u001b[0;32melse\u001b[0m \u001b[0;34m'dd->d'\u001b[0m\u001b[0;34m\u001b[0m\u001b[0m\n\u001b[1;32m    389\u001b[0m     \u001b[0mextobj\u001b[0m \u001b[0;34m=\u001b[0m \u001b[0mget_linalg_error_extobj\u001b[0m\u001b[0;34m(\u001b[0m\u001b[0m_raise_linalgerror_singular\u001b[0m\u001b[0;34m)\u001b[0m\u001b[0;34m\u001b[0m\u001b[0m\n\u001b[0;32m--> 390\u001b[0;31m     \u001b[0mr\u001b[0m \u001b[0;34m=\u001b[0m \u001b[0mgufunc\u001b[0m\u001b[0;34m(\u001b[0m\u001b[0ma\u001b[0m\u001b[0;34m,\u001b[0m \u001b[0mb\u001b[0m\u001b[0;34m,\u001b[0m \u001b[0msignature\u001b[0m\u001b[0;34m=\u001b[0m\u001b[0msignature\u001b[0m\u001b[0;34m,\u001b[0m \u001b[0mextobj\u001b[0m\u001b[0;34m=\u001b[0m\u001b[0mextobj\u001b[0m\u001b[0;34m)\u001b[0m\u001b[0;34m\u001b[0m\u001b[0m\n\u001b[0m\u001b[1;32m    391\u001b[0m \u001b[0;34m\u001b[0m\u001b[0m\n\u001b[1;32m    392\u001b[0m     \u001b[0;32mreturn\u001b[0m \u001b[0mwrap\u001b[0m\u001b[0;34m(\u001b[0m\u001b[0mr\u001b[0m\u001b[0;34m.\u001b[0m\u001b[0mastype\u001b[0m\u001b[0;34m(\u001b[0m\u001b[0mresult_t\u001b[0m\u001b[0;34m,\u001b[0m \u001b[0mcopy\u001b[0m\u001b[0;34m=\u001b[0m\u001b[0;32mFalse\u001b[0m\u001b[0;34m)\u001b[0m\u001b[0;34m)\u001b[0m\u001b[0;34m\u001b[0m\u001b[0m\n",
      "\u001b[0;31mKeyboardInterrupt\u001b[0m: "
     ]
    }
   ],
   "source": [
    "k = 80\n",
    "reg = 5.0\n",
    "U_init = np.apply_along_axis(lambda x: x/sum(x), 1, abs(np.random.randn(X_tr.shape[0],k)))\n",
    "V_init = np.apply_along_axis(lambda x: x/sum(x), 1, abs(np.random.randn(k,X_tr.shape[1])))\n",
    "train(X_tr, X_te, U_init, V_init, k, niters = 50, reg = reg, verbose=True)"
   ]
  },
  {
   "cell_type": "code",
   "execution_count": null,
   "metadata": {},
   "outputs": [],
   "source": []
  }
 ],
 "metadata": {
  "kernelspec": {
   "display_name": "Python 3",
   "language": "python",
   "name": "python3"
  },
  "language_info": {
   "codemirror_mode": {
    "name": "ipython",
    "version": 3
   },
   "file_extension": ".py",
   "mimetype": "text/x-python",
   "name": "python",
   "nbconvert_exporter": "python",
   "pygments_lexer": "ipython3",
   "version": "3.6.5"
  }
 },
 "nbformat": 4,
 "nbformat_minor": 2
}
